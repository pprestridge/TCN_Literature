{
 "cells": [
  {
   "cell_type": "code",
   "execution_count": 44,
   "id": "a3490b76",
   "metadata": {},
   "outputs": [],
   "source": [
    "import numpy as np\n",
    "import pandas as pd\n",
    "import tensorflow as tf\n",
    "from tcn import TCN, tcn_full_summary"
   ]
  },
  {
   "cell_type": "markdown",
   "id": "053830f7",
   "metadata": {},
   "source": [
    "# Copy Memory\n",
    "\n",
    "In this task, each input sequence has length T + 20. The first 10 values are chosen randomly among the digits 1, . . . , 8, with the rest being all zeros, except for the last 11 entries that are filled with the digit ‘9’ (the first ‘9’ is a delimiter). The goal is to generate an output of the same length that is zero everywhere except the last 10 values after the delimiter, where the model is expected to repeat the 10 values it encountered at the start of the input.\n",
    "\n",
    "Ex.\n",
    "\n",
    "Input  = 1234567876 000000000 99999999999 \n",
    "         \n",
    "         Message        T     Delimeter+Space\n",
    "\n",
    "Output = 0000000000 000000000 01234567876\n",
    "\n",
    "                              Message\n"
   ]
  },
  {
   "cell_type": "code",
   "execution_count": 45,
   "id": "2d89fc9c",
   "metadata": {},
   "outputs": [],
   "source": [
    "def CreateCopyMemoryDataset(T, ENTRIES):\n",
    "    \"\"\"\n",
    "    Inputs:\n",
    "    T       (INT): The number of 0s between the message and delimeter\n",
    "    ENTRIES (INT): The number of copy memory example entries to make\n",
    "    \n",
    "    Outputs:\n",
    "    X       (np.array, shape:(Entries, T+20)): Copy memory input sequences\n",
    "    y       (np.array, shape:(Entries, T+20)): Copy memoty output sequences\n",
    "    \"\"\"\n",
    "    \n",
    "    #Create random integer messages\n",
    "    RandIntMessages = np.random.randint(low=1, high=8, size=((ENTRIES, 10)))\n",
    "    \n",
    "    #Create delimeter\n",
    "    Delimeter = np.zeros((ENTRIES, 11)) + 9\n",
    "    \n",
    "    #Create spacer\n",
    "    Spacer = np.zeros((ENTRIES, T-1))\n",
    "    \n",
    "    #Create X\n",
    "    # [Message, Spacer, Delimeter]\n",
    "    X = np.hstack((RandIntMessages, Spacer, Delimeter))\n",
    "    \n",
    "    #Create empty array for y,then transplant the X messages to the correct location\n",
    "    y = np.zeros((ENTRIES, T+20))\n",
    "    y [:, -10:] = X[:,:10]\n",
    "        \n",
    "    return X, y"
   ]
  },
  {
   "cell_type": "code",
   "execution_count": 46,
   "id": "5a96d449",
   "metadata": {},
   "outputs": [
    {
     "name": "stdout",
     "output_type": "stream",
     "text": [
      "(10, 23)\n",
      "(10, 23)\n",
      "[7. 3. 3. 1. 2. 7. 2. 6. 6. 6. 0. 0. 9. 9. 9. 9. 9. 9. 9. 9. 9. 9. 9.]\n",
      "[0. 0. 0. 0. 0. 0. 0. 0. 0. 0. 0. 0. 0. 7. 3. 3. 1. 2. 7. 2. 6. 6. 6.]\n"
     ]
    }
   ],
   "source": [
    "X, y = CreateCopyMemoryDataset(3, 10)\n",
    "print(X.shape)\n",
    "print(y.shape)\n",
    "\n",
    "print(X[0])\n",
    "print(y[0])"
   ]
  },
  {
   "cell_type": "markdown",
   "id": "59740407",
   "metadata": {},
   "source": [
    "# TCN\n",
    "\n",
    "Implmenting TCN using: [\"https://github.com/philipperemy/keras-tcn\"]\n",
    "\n"
   ]
  },
  {
   "cell_type": "code",
   "execution_count": 87,
   "id": "bf79ae9f",
   "metadata": {},
   "outputs": [],
   "source": [
    "def buildTCNModel(T):\n",
    "\n",
    "    #Setup TCN architecture\n",
    "    tcn_layer = TCN(\n",
    "        input_shape =(T+20,1),\n",
    "        nb_filters=64,\n",
    "        kernel_size=4,\n",
    "        nb_stacks=1,\n",
    "        dilations=(1, 2, 4, 8, 16, 32),\n",
    "        padding='causal',\n",
    "        use_skip_connections=True,\n",
    "        dropout_rate=0.1,\n",
    "        return_sequences=True,\n",
    "        activation='relu',\n",
    "        kernel_initializer='he_normal',\n",
    "        use_batch_norm=False,\n",
    "        use_layer_norm=False,\n",
    "        use_weight_norm=True\n",
    "    )\n",
    "\n",
    "    #Create a Tensorflow model\n",
    "    TCNModel = tf.keras.models.Sequential([tcn_layer, tf.keras.layers.Dense(1)])\n",
    "    \n",
    "    #Setup model\n",
    "    TCNModel.compile(optimizer=\"adam\", loss=\"mse\")\n",
    "    \n",
    "    return TCNModel"
   ]
  },
  {
   "cell_type": "markdown",
   "id": "c690ae8d",
   "metadata": {},
   "source": [
    "# Training and Testing"
   ]
  },
  {
   "cell_type": "code",
   "execution_count": 90,
   "id": "ce37b58a",
   "metadata": {},
   "outputs": [
    {
     "name": "stdout",
     "output_type": "stream",
     "text": [
      "(10000, 40)\n",
      "(10000, 40)\n"
     ]
    }
   ],
   "source": [
    "#Define Copy Memory Problem\n",
    "T = 20\n",
    "\n",
    "#Create Training Examples\n",
    "ENTRIES = 10000\n",
    "X, y = CreateCopyMemoryDataset(T, ENTRIES)\n",
    "print(X.shape)\n",
    "print(y.shape)\n",
    "\n",
    "#Build Model\n",
    "TCNModel = buildTCNModel(T)"
   ]
  },
  {
   "cell_type": "code",
   "execution_count": 91,
   "id": "65f8f732",
   "metadata": {},
   "outputs": [
    {
     "name": "stdout",
     "output_type": "stream",
     "text": [
      "Epoch 1/50\n",
      "16/16 [==============================] - 13s 503ms/step - loss: 3.9320 - val_loss: 1.5195\n",
      "Epoch 2/50\n",
      "16/16 [==============================] - 6s 370ms/step - loss: 1.7217 - val_loss: 1.0797\n",
      "Epoch 3/50\n",
      "16/16 [==============================] - 6s 388ms/step - loss: 1.3649 - val_loss: 0.9073\n",
      "Epoch 4/50\n",
      "16/16 [==============================] - 6s 368ms/step - loss: 1.1576 - val_loss: 0.6812\n",
      "Epoch 5/50\n",
      "16/16 [==============================] - 6s 386ms/step - loss: 0.8404 - val_loss: 0.2188\n",
      "Epoch 6/50\n",
      "16/16 [==============================] - 6s 367ms/step - loss: 0.5059 - val_loss: 0.0730\n",
      "Epoch 7/50\n",
      "16/16 [==============================] - 6s 390ms/step - loss: 0.3956 - val_loss: 0.0490\n",
      "Epoch 8/50\n",
      "16/16 [==============================] - 6s 376ms/step - loss: 0.3384 - val_loss: 0.0356\n",
      "Epoch 9/50\n",
      "16/16 [==============================] - 6s 385ms/step - loss: 0.3017 - val_loss: 0.0322\n",
      "Epoch 10/50\n",
      "16/16 [==============================] - 6s 369ms/step - loss: 0.2748 - val_loss: 0.0314\n",
      "Epoch 11/50\n",
      "16/16 [==============================] - 6s 389ms/step - loss: 0.2532 - val_loss: 0.0290\n",
      "Epoch 12/50\n",
      "16/16 [==============================] - 6s 368ms/step - loss: 0.2310 - val_loss: 0.0255\n",
      "Epoch 13/50\n",
      "16/16 [==============================] - 6s 387ms/step - loss: 0.2177 - val_loss: 0.0235\n",
      "Epoch 14/50\n",
      "16/16 [==============================] - 6s 383ms/step - loss: 0.2055 - val_loss: 0.0265\n",
      "Epoch 15/50\n",
      "16/16 [==============================] - 6s 386ms/step - loss: 0.1890 - val_loss: 0.0247\n",
      "Epoch 16/50\n",
      "16/16 [==============================] - 6s 388ms/step - loss: 0.1827 - val_loss: 0.0247\n",
      "Epoch 17/50\n",
      "16/16 [==============================] - 6s 392ms/step - loss: 0.1709 - val_loss: 0.0213\n",
      "Epoch 18/50\n",
      "16/16 [==============================] - 6s 374ms/step - loss: 0.1612 - val_loss: 0.0201\n",
      "Epoch 19/50\n",
      "16/16 [==============================] - 6s 385ms/step - loss: 0.1519 - val_loss: 0.0193\n",
      "Epoch 20/50\n",
      "16/16 [==============================] - 6s 373ms/step - loss: 0.1451 - val_loss: 0.0238\n",
      "Epoch 21/50\n",
      "16/16 [==============================] - 6s 392ms/step - loss: 0.1376 - val_loss: 0.0219\n",
      "Epoch 22/50\n",
      "16/16 [==============================] - 6s 374ms/step - loss: 0.1343 - val_loss: 0.0201\n",
      "Epoch 23/50\n",
      "16/16 [==============================] - 6s 389ms/step - loss: 0.1293 - val_loss: 0.0165\n",
      "Epoch 24/50\n",
      "16/16 [==============================] - 6s 371ms/step - loss: 0.1219 - val_loss: 0.0160\n",
      "Epoch 25/50\n",
      "16/16 [==============================] - 6s 392ms/step - loss: 0.1174 - val_loss: 0.0175\n",
      "Epoch 26/50\n",
      "16/16 [==============================] - 6s 370ms/step - loss: 0.1124 - val_loss: 0.0204\n",
      "Epoch 27/50\n",
      "16/16 [==============================] - 6s 391ms/step - loss: 0.1096 - val_loss: 0.0205\n",
      "Epoch 28/50\n",
      "16/16 [==============================] - 6s 373ms/step - loss: 0.1040 - val_loss: 0.0132\n",
      "Epoch 29/50\n",
      "16/16 [==============================] - 6s 395ms/step - loss: 0.1017 - val_loss: 0.0169\n",
      "Epoch 30/50\n",
      "16/16 [==============================] - 6s 371ms/step - loss: 0.0971 - val_loss: 0.0152\n",
      "Epoch 31/50\n",
      "16/16 [==============================] - 6s 389ms/step - loss: 0.0925 - val_loss: 0.0209\n",
      "Epoch 32/50\n",
      "16/16 [==============================] - 6s 371ms/step - loss: 0.0908 - val_loss: 0.0126\n",
      "Epoch 33/50\n",
      "16/16 [==============================] - 6s 387ms/step - loss: 0.0876 - val_loss: 0.0134\n",
      "Epoch 34/50\n",
      "16/16 [==============================] - 6s 372ms/step - loss: 0.0850 - val_loss: 0.0115\n",
      "Epoch 35/50\n",
      "16/16 [==============================] - 6s 390ms/step - loss: 0.0835 - val_loss: 0.0167\n",
      "Epoch 36/50\n",
      "16/16 [==============================] - 6s 373ms/step - loss: 0.0806 - val_loss: 0.0097\n",
      "Epoch 37/50\n",
      "16/16 [==============================] - 6s 390ms/step - loss: 0.0804 - val_loss: 0.0163\n",
      "Epoch 38/50\n",
      "16/16 [==============================] - 6s 372ms/step - loss: 0.0751 - val_loss: 0.0176\n",
      "Epoch 39/50\n",
      "16/16 [==============================] - 6s 387ms/step - loss: 0.0739 - val_loss: 0.0088\n",
      "Epoch 40/50\n",
      "16/16 [==============================] - 6s 370ms/step - loss: 0.0724 - val_loss: 0.0145\n",
      "Epoch 41/50\n",
      "16/16 [==============================] - 6s 390ms/step - loss: 0.0700 - val_loss: 0.0110\n",
      "Epoch 42/50\n",
      "16/16 [==============================] - 6s 374ms/step - loss: 0.0678 - val_loss: 0.0109\n",
      "Epoch 43/50\n",
      "16/16 [==============================] - 6s 388ms/step - loss: 0.0666 - val_loss: 0.0128\n",
      "Epoch 44/50\n",
      "16/16 [==============================] - 6s 371ms/step - loss: 0.0652 - val_loss: 0.0104\n",
      "Epoch 45/50\n",
      "16/16 [==============================] - 6s 391ms/step - loss: 0.0636 - val_loss: 0.0106\n",
      "Epoch 46/50\n",
      "16/16 [==============================] - 6s 371ms/step - loss: 0.0626 - val_loss: 0.0097\n",
      "Epoch 47/50\n",
      "16/16 [==============================] - 6s 398ms/step - loss: 0.0606 - val_loss: 0.0149\n",
      "Epoch 48/50\n",
      "16/16 [==============================] - 6s 369ms/step - loss: 0.0605 - val_loss: 0.0142\n",
      "Epoch 49/50\n",
      "16/16 [==============================] - 6s 387ms/step - loss: 0.0582 - val_loss: 0.0097\n",
      "Epoch 50/50\n",
      "16/16 [==============================] - 6s 366ms/step - loss: 0.0568 - val_loss: 0.0151\n"
     ]
    }
   ],
   "source": [
    "history = TCNModel.fit(X, y, epochs = 50,\n",
    "                      batch_size = 256, steps_per_epoch = 16,\n",
    "                      validation_split=0.2)"
   ]
  },
  {
   "cell_type": "code",
   "execution_count": 118,
   "id": "e92c8e5c",
   "metadata": {},
   "outputs": [
    {
     "name": "stdout",
     "output_type": "stream",
     "text": [
      "[[4. 5. 7. 2. 4. 5. 3. 1. 5. 1.]]\n",
      "[[3.95 4.84 6.61 1.62 3.89 4.92 2.83 0.8  4.81 0.97]]\n",
      "[[4. 5. 7. 2. 4. 5. 3. 1. 5. 1.]]\n"
     ]
    }
   ],
   "source": [
    "X, y = CreateCopyMemoryDataset(T, 1)\n",
    "pred_y = TCNModel.predict(X)\n",
    "\n",
    "print(y[:,-10:])\n",
    "print(np.round(pred_y,2).reshape(1,-1)[:,-10:])\n",
    "print(np.round(pred_y).reshape(1,-1)[:,-10:])"
   ]
  }
 ],
 "metadata": {
  "kernelspec": {
   "display_name": "Python 3 (ipykernel)",
   "language": "python",
   "name": "python3"
  },
  "language_info": {
   "codemirror_mode": {
    "name": "ipython",
    "version": 3
   },
   "file_extension": ".py",
   "mimetype": "text/x-python",
   "name": "python",
   "nbconvert_exporter": "python",
   "pygments_lexer": "ipython3",
   "version": "3.8.7"
  }
 },
 "nbformat": 4,
 "nbformat_minor": 5
}
