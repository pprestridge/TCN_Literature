{
 "cells": [
  {
   "cell_type": "code",
   "execution_count": 101,
   "id": "a3d0eb1c",
   "metadata": {},
   "outputs": [],
   "source": [
    "import numpy as np\n",
    "import pandas as pd\n",
    "import tensorflow as tf\n",
    "import matplotlib.pyplot as plt\n",
    "import seaborn as sns\n",
    "from tcn import TCN, tcn_full_summary"
   ]
  },
  {
   "cell_type": "markdown",
   "id": "9287c9f4",
   "metadata": {},
   "source": [
    "# Copy Memory\n",
    "\n",
    "In this task, each input sequence has length T + 20. The first 10 values are chosen randomly among the digits 1, . . . , 8, with the rest being all zeros, except for the last 11 entries that are filled with the digit ‘9’ (the first ‘9’ is a delimiter). The goal is to generate an output of the same length that is zero everywhere except the last 10 values after the delimiter, where the model is expected to repeat the 10 values it encountered at the start of the input.\n",
    "\n",
    "Ex.\n",
    "\n",
    "Input  = 1234567876 000000000 99999999999 \n",
    "         \n",
    "         Message        T     Delimeter+Space\n",
    "\n",
    "Output = 0000000000 000000000 01234567876\n",
    "\n",
    "                              Message\n"
   ]
  },
  {
   "cell_type": "code",
   "execution_count": 2,
   "id": "79f73e21",
   "metadata": {},
   "outputs": [],
   "source": [
    "def CreateCopyMemoryDataset(T, ENTRIES):\n",
    "    \"\"\"\n",
    "    Inputs:\n",
    "    T       (INT): The number of 0s between the message and delimeter\n",
    "    ENTRIES (INT): The number of copy memory example entries to make\n",
    "    \n",
    "    Outputs:\n",
    "    X       (np.array, shape:(Entries, T+20)): Copy memory input sequences\n",
    "    y       (np.array, shape:(Entries, T+20)): Copy memoty output sequences\n",
    "    \"\"\"\n",
    "    \n",
    "    #Create random integer messages\n",
    "    RandIntMessages = np.random.randint(low=1, high=8, size=((ENTRIES, 10)))\n",
    "    \n",
    "    #Create delimeter\n",
    "    Delimeter = np.zeros((ENTRIES, 11)) + 9\n",
    "    \n",
    "    #Create spacer\n",
    "    Spacer = np.zeros((ENTRIES, T-1))\n",
    "    \n",
    "    #Create X\n",
    "    # [Message, Spacer, Delimeter]\n",
    "    X = np.hstack((RandIntMessages, Spacer, Delimeter))\n",
    "    \n",
    "    #Create empty array for y,then transplant the X messages to the correct location\n",
    "    y = np.zeros((ENTRIES, T+20))\n",
    "    y [:, -10:] = X[:,:10]\n",
    "        \n",
    "    return X, y"
   ]
  },
  {
   "cell_type": "code",
   "execution_count": 4,
   "id": "9ca3563b",
   "metadata": {},
   "outputs": [
    {
     "name": "stdout",
     "output_type": "stream",
     "text": [
      "(10, 23)\n",
      "(10, 23)\n",
      "[7. 6. 3. 7. 4. 2. 7. 6. 5. 2. 0. 0. 9. 9. 9. 9. 9. 9. 9. 9. 9. 9. 9.]\n",
      "[0. 0. 0. 0. 0. 0. 0. 0. 0. 0. 0. 0. 0. 7. 6. 3. 7. 4. 2. 7. 6. 5. 2.]\n"
     ]
    }
   ],
   "source": [
    "X, y = CreateCopyMemoryDataset(3, 10)\n",
    "print(X.shape)\n",
    "print(y.shape)\n",
    "\n",
    "print(X[0])\n",
    "print(y[0])"
   ]
  },
  {
   "cell_type": "markdown",
   "id": "96f6bfc7",
   "metadata": {},
   "source": [
    "# TCN\n",
    "\n",
    "Implmenting TCN using: [\"https://github.com/philipperemy/keras-tcn\"]\n",
    "\n"
   ]
  },
  {
   "cell_type": "code",
   "execution_count": 276,
   "id": "74a58139",
   "metadata": {},
   "outputs": [],
   "source": [
    "def buildTCNModel(T):\n",
    "    \"\"\"\n",
    "    Inputs:\n",
    "    T   (INT): The number of spaces in the sequence\n",
    "    \n",
    "    Outputs:\n",
    "    TCNMdoel: Compiled TCN model (tf.keras.Model)\n",
    "    \"\"\"\n",
    "    #Setup TCN architecture\n",
    "    tcn_layer = TCN(\n",
    "        input_shape =(T+20,1),\n",
    "        nb_filters=32,\n",
    "        kernel_size=4,\n",
    "        nb_stacks=1,\n",
    "        dilations=(1, 2, 4, 8, 16, 32),\n",
    "        padding='causal',\n",
    "        use_skip_connections=True,\n",
    "        dropout_rate=0.1,\n",
    "        return_sequences=True,\n",
    "        activation='relu',\n",
    "        kernel_initializer='he_normal',\n",
    "        use_batch_norm=False,\n",
    "        use_layer_norm=False,\n",
    "        use_weight_norm=True\n",
    "    )\n",
    "\n",
    "    #Create a Tensorflow model\n",
    "    TCNModel = tf.keras.models.Sequential([tcn_layer, tf.keras.layers.Dense(1)])\n",
    "    \n",
    "    #Setup model\n",
    "    TCNModel.compile(optimizer=\"adam\", loss=\"mse\")\n",
    "    \n",
    "    return TCNModel"
   ]
  },
  {
   "cell_type": "markdown",
   "id": "5fdd7fef",
   "metadata": {},
   "source": [
    "# Training and Testing\n",
    "\n",
    "Proof of concept applying Copy Memory to T=10 "
   ]
  },
  {
   "cell_type": "code",
   "execution_count": 210,
   "id": "a8a74aa2",
   "metadata": {},
   "outputs": [
    {
     "name": "stdout",
     "output_type": "stream",
     "text": [
      "(10000, 30)\n",
      "(10000, 30)\n"
     ]
    }
   ],
   "source": [
    "#Define Copy Memory Problem\n",
    "T = 10\n",
    "\n",
    "#Create Training Examples\n",
    "ENTRIES = 10000\n",
    "X, y = CreateCopyMemoryDataset(T, ENTRIES)\n",
    "print(X.shape)\n",
    "print(y.shape)\n",
    "\n",
    "#Build Model\n",
    "TCNModel = buildTCNModel(T)"
   ]
  },
  {
   "cell_type": "code",
   "execution_count": 255,
   "id": "ee299d4a",
   "metadata": {},
   "outputs": [
    {
     "name": "stdout",
     "output_type": "stream",
     "text": [
      "Epoch 1/10\n",
      "16/16 [==============================] - 1s 55ms/step - loss: 0.1025 - categorical_crossentropy: 87.6045\n",
      "Epoch 2/10\n",
      "16/16 [==============================] - 1s 58ms/step - loss: 0.0957 - categorical_crossentropy: 86.4459\n",
      "Epoch 3/10\n",
      "16/16 [==============================] - 1s 56ms/step - loss: 0.0950 - categorical_crossentropy: 87.8052\n",
      "Epoch 4/10\n",
      "16/16 [==============================] - 1s 57ms/step - loss: 0.0899 - categorical_crossentropy: 86.8595\n",
      "Epoch 5/10\n",
      "16/16 [==============================] - 1s 53ms/step - loss: 0.0885 - categorical_crossentropy: 87.6367\n",
      "Epoch 6/10\n",
      "16/16 [==============================] - 1s 56ms/step - loss: 0.0896 - categorical_crossentropy: 87.7997\n",
      "Epoch 7/10\n",
      "16/16 [==============================] - 1s 57ms/step - loss: 0.0845 - categorical_crossentropy: 86.9424\n",
      "Epoch 8/10\n",
      "16/16 [==============================] - 1s 57ms/step - loss: 0.0813 - categorical_crossentropy: 86.9184\n",
      "Epoch 9/10\n",
      "16/16 [==============================] - 1s 55ms/step - loss: 0.0841 - categorical_crossentropy: 87.4231\n",
      "Epoch 10/10\n",
      "16/16 [==============================] - 1s 54ms/step - loss: 0.0799 - categorical_crossentropy: 87.5289\n"
     ]
    }
   ],
   "source": [
    "#Train Model\n",
    "history = TCNModel.fit(x=X, y=y, epochs = 10,\n",
    "                      batch_size = 128, steps_per_epoch = 16)"
   ]
  },
  {
   "cell_type": "code",
   "execution_count": 256,
   "id": "30174432",
   "metadata": {},
   "outputs": [
    {
     "name": "stdout",
     "output_type": "stream",
     "text": [
      "Input Sequnce:\n",
      "[[1. 7. 5. 4. 1. 2. 2. 6. 4. 2.]]\n",
      "Output Sequence\n",
      "[[1. 7. 5. 4. 1. 2. 2. 6. 4. 2.]]\n",
      "Unrounded-Output Sequnce:\n",
      "[[0.87 6.56 4.77 3.72 0.83 1.71 1.87 5.65 3.82 1.95]]\n"
     ]
    }
   ],
   "source": [
    "#Create an example and have the trained model predict the output\n",
    "X, y = CreateCopyMemoryDataset(T, 1)\n",
    "pred_y = TCNModel.predict(X)\n",
    "\n",
    "print(\"Input Sequnce:\")\n",
    "print(y[:,-10:])\n",
    "print(\"Output Sequence\")\n",
    "print(np.round(pred_y).reshape(1,-1)[:,-10:])\n",
    "print(\"Unrounded-Output Sequnce:\")\n",
    "print(np.round(pred_y,2).reshape(1,-1)[:,-10:])\n"
   ]
  },
  {
   "cell_type": "markdown",
   "id": "e0adc368",
   "metadata": {},
   "source": [
    "For this problem, an important metric to track is accuracy. There isn't an \"off the shelf\" metric from TensorFlow that is exactly what we need, so we need to write a custom metric that rounds the output and quantifies the number of errors between the input and output sequence "
   ]
  },
  {
   "cell_type": "code",
   "execution_count": 283,
   "id": "4f65d4e4",
   "metadata": {},
   "outputs": [],
   "source": [
    "def TCNAccuracy(model, T):\n",
    "    \"\"\"\n",
    "    Inputs\n",
    "    model: A TCN Model\n",
    "    T   (INT): The number of spaces in the sequence\n",
    "    \n",
    "    Outputs:\n",
    "    acc (float, [0, 1]): The model's accuracy defined as incorrect digits over total digits for 1000 attempts\n",
    "    \"\"\"\n",
    "    \n",
    "    #Create Examples\n",
    "    X, y = CreateCopyMemoryDataset(T, 500)\n",
    "    \n",
    "    #Predict on Examples\n",
    "    pred_y = model.predict(X)\n",
    "    \n",
    "    #Round predictions\n",
    "    pred_y = np.round(pred_y)\n",
    "        \n",
    "    #Count up all digits\n",
    "    m, n = X.shape\n",
    "    digits = m*n\n",
    "    \n",
    "    #Count up misses\n",
    "    misses = 0\n",
    "    for i in range(m):\n",
    "        for j in range(n):\n",
    "            if pred_y[i,j] != y[i,j]:\n",
    "                misses+=1\n",
    "            \n",
    "    \n",
    "    #Calculate Accuracy\n",
    "    acc = 1 - (misses / digits) \n",
    "    \n",
    "    return acc"
   ]
  },
  {
   "cell_type": "code",
   "execution_count": 291,
   "id": "0e59ac89",
   "metadata": {},
   "outputs": [],
   "source": [
    "import tensorflow.keras.backend as K\n",
    "import sklearn.metrics as sklm\n",
    "\n",
    "class Metrics(tf.keras.callbacks.Callback):\n",
    "    \n",
    "    #Initiate a metric for CopyMemAcc to store throughout training\n",
    "    def on_train_begin(self, logs={}):\n",
    "        self.CopyMemAcc=[0]\n",
    "    \n",
    "    #After each epoch, calculate the accuracy\n",
    "    def on_epoch_end(self, epoch, logs={}):\n",
    "        \n",
    "        #Get accuracy\n",
    "        T = self.model.input_shape[1] -20\n",
    "        acc = TCNAccuracy(self.model, T)\n",
    "        \n",
    "        #Store epoch's CopyMemAcc\n",
    "        self.CopyMemAcc.append(acc)\n",
    "        return\n",
    "    \n",
    "Metric = Metrics()"
   ]
  },
  {
   "cell_type": "code",
   "execution_count": 292,
   "id": "b2e03b41",
   "metadata": {
    "scrolled": true
   },
   "outputs": [
    {
     "name": "stdout",
     "output_type": "stream",
     "text": [
      "(10000, 30)\n",
      "(10000, 30)\n",
      "Epoch 1/50\n",
      "8/8 [==============================] - 5s 25ms/step - loss: 5.2945\n",
      "Epoch 2/50\n",
      "8/8 [==============================] - 0s 18ms/step - loss: 2.5180\n",
      "Epoch 3/50\n",
      "8/8 [==============================] - 0s 18ms/step - loss: 1.6542\n",
      "Epoch 4/50\n",
      "8/8 [==============================] - 0s 16ms/step - loss: 1.3113\n",
      "Epoch 5/50\n",
      "8/8 [==============================] - 0s 19ms/step - loss: 0.9779\n",
      "Epoch 6/50\n",
      "8/8 [==============================] - 0s 19ms/step - loss: 0.8120\n",
      "Epoch 7/50\n",
      "8/8 [==============================] - 0s 21ms/step - loss: 0.7094\n",
      "Epoch 8/50\n",
      "8/8 [==============================] - 0s 17ms/step - loss: 0.6353\n",
      "Epoch 9/50\n",
      "8/8 [==============================] - 0s 16ms/step - loss: 0.5843\n",
      "Epoch 10/50\n",
      "8/8 [==============================] - 0s 16ms/step - loss: 0.4921\n",
      "Epoch 11/50\n",
      "8/8 [==============================] - 0s 20ms/step - loss: 0.4935\n",
      "Epoch 12/50\n",
      "8/8 [==============================] - 0s 21ms/step - loss: 0.4838\n",
      "Epoch 13/50\n",
      "8/8 [==============================] - 0s 23ms/step - loss: 0.4048\n",
      "Epoch 14/50\n",
      "8/8 [==============================] - 0s 15ms/step - loss: 0.4142\n",
      "Epoch 15/50\n",
      "8/8 [==============================] - 0s 22ms/step - loss: 0.3738\n",
      "Epoch 16/50\n",
      "8/8 [==============================] - 0s 21ms/step - loss: 0.3459\n",
      "Epoch 17/50\n",
      "8/8 [==============================] - 0s 19ms/step - loss: 0.3408\n",
      "Epoch 18/50\n",
      "8/8 [==============================] - 0s 16ms/step - loss: 0.3417\n",
      "Epoch 19/50\n",
      "8/8 [==============================] - 0s 17ms/step - loss: 0.3209\n",
      "Epoch 20/50\n",
      "8/8 [==============================] - 0s 13ms/step - loss: 0.3274\n",
      "Epoch 21/50\n",
      "8/8 [==============================] - 0s 14ms/step - loss: 0.3006\n",
      "Epoch 22/50\n",
      "8/8 [==============================] - 0s 19ms/step - loss: 0.2758\n",
      "Epoch 23/50\n",
      "8/8 [==============================] - 0s 23ms/step - loss: 0.2988\n",
      "Epoch 24/50\n",
      "8/8 [==============================] - 0s 17ms/step - loss: 0.2558\n",
      "Epoch 25/50\n",
      "8/8 [==============================] - 0s 21ms/step - loss: 0.2876\n",
      "Epoch 26/50\n",
      "8/8 [==============================] - 0s 15ms/step - loss: 0.2760\n",
      "Epoch 27/50\n",
      "8/8 [==============================] - 0s 18ms/step - loss: 0.2592\n",
      "Epoch 28/50\n",
      "8/8 [==============================] - 0s 19ms/step - loss: 0.2377\n",
      "Epoch 29/50\n",
      "8/8 [==============================] - 0s 13ms/step - loss: 0.2388\n",
      "Epoch 30/50\n",
      "8/8 [==============================] - 0s 22ms/step - loss: 0.2287\n",
      "Epoch 31/50\n",
      "8/8 [==============================] - 0s 18ms/step - loss: 0.2190\n",
      "Epoch 32/50\n",
      "8/8 [==============================] - 0s 15ms/step - loss: 0.2216\n",
      "Epoch 33/50\n",
      "8/8 [==============================] - 0s 20ms/step - loss: 0.2131\n",
      "Epoch 34/50\n",
      "8/8 [==============================] - 0s 13ms/step - loss: 0.2085\n",
      "Epoch 35/50\n",
      "8/8 [==============================] - 0s 18ms/step - loss: 0.2294\n",
      "Epoch 36/50\n",
      "8/8 [==============================] - 0s 16ms/step - loss: 0.2197\n",
      "Epoch 37/50\n",
      "8/8 [==============================] - 0s 15ms/step - loss: 0.1780\n",
      "Epoch 38/50\n",
      "8/8 [==============================] - 0s 19ms/step - loss: 0.1903\n",
      "Epoch 39/50\n",
      "8/8 [==============================] - 0s 18ms/step - loss: 0.1640\n",
      "Epoch 40/50\n",
      "8/8 [==============================] - 0s 13ms/step - loss: 0.1783\n",
      "Epoch 41/50\n",
      "8/8 [==============================] - 0s 14ms/step - loss: 0.1783\n",
      "Epoch 42/50\n",
      "8/8 [==============================] - 0s 21ms/step - loss: 0.1792\n",
      "Epoch 43/50\n",
      "8/8 [==============================] - 0s 21ms/step - loss: 0.1701\n",
      "Epoch 44/50\n",
      "8/8 [==============================] - 0s 20ms/step - loss: 0.1632\n",
      "Epoch 45/50\n",
      "8/8 [==============================] - 0s 17ms/step - loss: 0.1663\n",
      "Epoch 46/50\n",
      "8/8 [==============================] - 0s 13ms/step - loss: 0.1633\n",
      "Epoch 47/50\n",
      "8/8 [==============================] - 0s 14ms/step - loss: 0.1642\n",
      "Epoch 48/50\n",
      "8/8 [==============================] - 0s 19ms/step - loss: 0.1780\n",
      "Epoch 49/50\n",
      "8/8 [==============================] - 0s 15ms/step - loss: 0.1600\n",
      "Epoch 50/50\n",
      "8/8 [==============================] - 0s 20ms/step - loss: 0.1632\n"
     ]
    }
   ],
   "source": [
    "#Define Copy Memory Problem\n",
    "T = 10\n",
    "\n",
    "#Create Training Examples\n",
    "X, y = CreateCopyMemoryDataset(T, 10000)\n",
    "\n",
    "#Build Model\n",
    "TCNModel = buildTCNModel(T)\n",
    "\n",
    "history = TCNModel.fit(x=X, y=y, epochs = 50,\n",
    "                      batch_size = 16, steps_per_epoch = 8,\n",
    "                      callbacks = [Metric])\n",
    "\n",
    "#Check custom accuracy metric \n",
    "print(Metric.CopyMemAcc)"
   ]
  },
  {
   "cell_type": "markdown",
   "id": "6c12fd3e",
   "metadata": {},
   "source": [
    "# Receptive Field Analysis\n",
    "\n",
    "TCN Networks are great at providing a large receptive field to provide insight into future predections and effectively transfering information from far away inputs. Effectively, they have a long memory and can apply it effectively. "
   ]
  },
  {
   "cell_type": "code",
   "execution_count": 321,
   "id": "f6697b20",
   "metadata": {},
   "outputs": [
    {
     "name": "stdout",
     "output_type": "stream",
     "text": [
      "Trained and Tested T=5\n",
      "Trained and Tested T=25\n",
      "Trained and Tested T=50\n",
      "Trained and Tested T=100\n",
      "Trained and Tested T=500\n"
     ]
    },
    {
     "data": {
      "image/png": "[encoded data removed]",
      "text/plain": [
       "<Figure size 576x576 with 1 Axes>"
      ]
     },
     "metadata": {
      "needs_background": "light"
     },
     "output_type": "display_data"
    },
    {
     "data": {
      "image/png": "[encoded data removed]",
      "text/plain": [
       "<Figure size 576x576 with 1 Axes>"
      ]
     },
     "metadata": {
      "needs_background": "light"
     },
     "output_type": "display_data"
    }
   ],
   "source": [
    "def TCN_T_Test(TList, Metrics = Metrics()):\n",
    "    \"\"\"\n",
    "    Inputs:\n",
    "    T: A list of integers defining at what intervals of T to test the TCN architecture\n",
    "    \n",
    "    Outputs:\n",
    "    accDF : A pandas dataframe tracking accuracy over training iterations\n",
    "    lossDF: A pandas dataframe tracking loss over training iterations\n",
    "    \"\"\"\n",
    "    EPOCHS=50\n",
    "    Train_Accuracies = np.zeros((EPOCHS+1, len(TList)))\n",
    "    Train_Losses = np.zeros((EPOCHS+1, len(TList)))\n",
    "    \n",
    "    #Repeat example generation, training, and testing at each interval T\n",
    "    for i, T in enumerate(TList):\n",
    "        \n",
    "        #Create Training examples\n",
    "        X, y = CreateCopyMemoryDataset(T, 10000)\n",
    "        \n",
    "        #Create Model\n",
    "        TCNModel = buildTCNModel(T)\n",
    "                \n",
    "        #Train Model\n",
    "        history = TCNModel.fit(x=X, y=y, epochs = EPOCHS,\n",
    "                      batch_size = 16, steps_per_epoch = 5, verbose=0,\n",
    "                      callbacks = [Metrics])\n",
    "        \n",
    "        #Store loss and accuracies over training epochs\n",
    "        Train_Accuracies[:,i] = np.squeeze(np.array(Metrics.CopyMemAcc).reshape(-1,1))\n",
    "        Train_Losses[:,i] = history.history[\"loss\"]+[0.0]\n",
    "        print(\"Trained and Tested T=\"+str(T))\n",
    "\n",
    "    \n",
    "    \n",
    "    #Plot Results\n",
    "    AccDF = pd.DataFrame(Train_Accuracies, columns=[\"T=\"+str(TList[i]) for i in range(len(TList))])\n",
    "    LossDF = pd.DataFrame(Train_Losses, columns=[\"T=\"+str(TList[i]) for i in range(len(TList))])\n",
    "    \n",
    "    ax = plt.figure(figsize=(8,8))\n",
    "    ax = sns.lineplot(data = AccDF)\n",
    "    plt.ylabel(\"Accuracy\")\n",
    "    plt.xlabel(\"Epoch\")\n",
    "\n",
    "    \n",
    "    \n",
    "    ax = plt.figure(figsize=(8,8))\n",
    "    ax = sns.lineplot(data = LossDF)\n",
    "    plt.ylabel(\"Loss\")\n",
    "    plt.xlabel(\"Epoch\")\n",
    "\n",
    "    \n",
    "    return AccDF, LossDF\n",
    "\n",
    "\n",
    "T=[5,25,50,100,500]\n",
    "AccDF, LossDF= TCN_T_Test(T)\n"
   ]
  }
 ],
 "metadata": {
  "kernelspec": {
   "display_name": "Python 3 (ipykernel)",
   "language": "python",
   "name": "python3"
  },
  "language_info": {
   "codemirror_mode": {
    "name": "ipython",
    "version": 3
   },
   "file_extension": ".py",
   "mimetype": "text/x-python",
   "name": "python",
   "nbconvert_exporter": "python",
   "pygments_lexer": "ipython3",
   "version": "3.8.7"
  }
 },
 "nbformat": 4,
 "nbformat_minor": 5
}
