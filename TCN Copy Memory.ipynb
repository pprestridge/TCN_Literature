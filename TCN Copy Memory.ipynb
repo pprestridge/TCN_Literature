{
 "cells": [
  {
   "cell_type": "markdown",
   "id": "c083c2f1",
   "metadata": {},
   "source": [
    "# Copy Memory\n",
    "\n",
    "In this task, each input sequence has length T + 20. The first 10 values are chosen randomly among the digits 1, . . . , 8, with the rest being all zeros, except for the last 11 entries that are filled with the digit ‘9’ (the first ‘9’ is a delimiter). The goal is to generate an output of the same length that is zero everywhere except the last 10 values after the delimiter, where the model is expected to repeat the 10 values it encountered at the start of the input.\n",
    "\n",
    "Ex.\n",
    "\n",
    "Input  = 1234567876 000000000 99999999999 \n",
    "         \n",
    "         Message        T     Delimeter+Space\n",
    "\n",
    "Output = 0000000000 000000000 01234567876\n",
    "\n",
    "                              Message\n"
   ]
  },
  {
   "cell_type": "code",
   "execution_count": null,
   "id": "8d41fa8d",
   "metadata": {},
   "outputs": [],
   "source": [
    "def Creas"
   ]
  }
 ],
 "metadata": {
  "kernelspec": {
   "display_name": "Python 3 (ipykernel)",
   "language": "python",
   "name": "python3"
  },
  "language_info": {
   "codemirror_mode": {
    "name": "ipython",
    "version": 3
   },
   "file_extension": ".py",
   "mimetype": "text/x-python",
   "name": "python",
   "nbconvert_exporter": "python",
   "pygments_lexer": "ipython3",
   "version": "3.8.7"
  }
 },
 "nbformat": 4,
 "nbformat_minor": 5
}
