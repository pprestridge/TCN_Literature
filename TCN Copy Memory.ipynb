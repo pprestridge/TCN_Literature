{
 "cells": [
  {
   "cell_type": "code",
   "execution_count": 101,
   "id": "f0558e28",
   "metadata": {},
   "outputs": [],
   "source": [
    "import numpy as np\n",
    "import pandas as pd\n",
    "import tensorflow as tf\n",
    "import matplotlib.pyplot as plt\n",
    "import seaborn as sns\n",
    "from tcn import TCN, tcn_full_summary"
   ]
  },
  {
   "cell_type": "markdown",
   "id": "a2272957",
   "metadata": {},
   "source": [
    "# Copy Memory\n",
    "\n",
    "In this task, each input sequence has length T + 20. The first 10 values are chosen randomly among the digits 1, . . . , 8, with the rest being all zeros, except for the last 11 entries that are filled with the digit ‘9’ (the first ‘9’ is a delimiter). The goal is to generate an output of the same length that is zero everywhere except the last 10 values after the delimiter, where the model is expected to repeat the 10 values it encountered at the start of the input.\n",
    "\n",
    "Ex.\n",
    "\n",
    "Input  = 1234567876 000000000 99999999999 \n",
    "         \n",
    "         Message        T     Delimeter+Space\n",
    "\n",
    "Output = 0000000000 000000000 01234567876\n",
    "\n",
    "                              Message\n"
   ]
  },
  {
   "cell_type": "code",
   "execution_count": 2,
   "id": "26a172e6",
   "metadata": {},
   "outputs": [],
   "source": [
    "def CreateCopyMemoryDataset(T, ENTRIES):\n",
    "    \"\"\"\n",
    "    Inputs:\n",
    "    T       (INT): The number of 0s between the message and delimeter\n",
    "    ENTRIES (INT): The number of copy memory example entries to make\n",
    "    \n",
    "    Outputs:\n",
    "    X       (np.array, shape:(Entries, T+20)): Copy memory input sequences\n",
    "    y       (np.array, shape:(Entries, T+20)): Copy memoty output sequences\n",
    "    \"\"\"\n",
    "    \n",
    "    #Create random integer messages\n",
    "    RandIntMessages = np.random.randint(low=1, high=8, size=((ENTRIES, 10)))\n",
    "    \n",
    "    #Create delimeter\n",
    "    Delimeter = np.zeros((ENTRIES, 11)) + 9\n",
    "    \n",
    "    #Create spacer\n",
    "    Spacer = np.zeros((ENTRIES, T-1))\n",
    "    \n",
    "    #Create X\n",
    "    # [Message, Spacer, Delimeter]\n",
    "    X = np.hstack((RandIntMessages, Spacer, Delimeter))\n",
    "    \n",
    "    #Create empty array for y,then transplant the X messages to the correct location\n",
    "    y = np.zeros((ENTRIES, T+20))\n",
    "    y [:, -10:] = X[:,:10]\n",
    "        \n",
    "    return X, y"
   ]
  },
  {
   "cell_type": "code",
   "execution_count": 4,
   "id": "30b917ce",
   "metadata": {},
   "outputs": [
    {
     "name": "stdout",
     "output_type": "stream",
     "text": [
      "(10, 23)\n",
      "(10, 23)\n",
      "[7. 6. 3. 7. 4. 2. 7. 6. 5. 2. 0. 0. 9. 9. 9. 9. 9. 9. 9. 9. 9. 9. 9.]\n",
      "[0. 0. 0. 0. 0. 0. 0. 0. 0. 0. 0. 0. 0. 7. 6. 3. 7. 4. 2. 7. 6. 5. 2.]\n"
     ]
    }
   ],
   "source": [
    "X, y = CreateCopyMemoryDataset(3, 10)\n",
    "print(X.shape)\n",
    "print(y.shape)\n",
    "\n",
    "print(X[0])\n",
    "print(y[0])"
   ]
  },
  {
   "cell_type": "markdown",
   "id": "63552e57",
   "metadata": {},
   "source": [
    "# TCN\n",
    "\n",
    "Implmenting TCN using: [\"https://github.com/philipperemy/keras-tcn\"]\n",
    "\n"
   ]
  },
  {
   "cell_type": "code",
   "execution_count": 64,
   "id": "9b3d7517",
   "metadata": {},
   "outputs": [],
   "source": [
    "def buildTCNModel(T):\n",
    "    \"\"\"\n",
    "    Inputs:\n",
    "    T   (INT): The number of spaces in the sequence\n",
    "    \n",
    "    Outputs:\n",
    "    TCNMdoel: Compiled TCN model (tf.keras.Model)\n",
    "    \"\"\"\n",
    "    #Setup TCN architecture\n",
    "    tcn_layer = TCN(\n",
    "        input_shape =(T+20,1),\n",
    "        nb_filters=32,\n",
    "        kernel_size=4,\n",
    "        nb_stacks=1,\n",
    "        dilations=(1, 2, 4, 8, 16, 32),\n",
    "        padding='causal',\n",
    "        use_skip_connections=True,\n",
    "        dropout_rate=0.1,\n",
    "        return_sequences=True,\n",
    "        activation='relu',\n",
    "        kernel_initializer='he_normal',\n",
    "        use_batch_norm=False,\n",
    "        use_layer_norm=False,\n",
    "        use_weight_norm=True\n",
    "    )\n",
    "\n",
    "    #Create a Tensorflow model\n",
    "    TCNModel = tf.keras.models.Sequential([tcn_layer, tf.keras.layers.Dense(1)])\n",
    "    \n",
    "    #Setup model\n",
    "    TCNModel.compile(optimizer=\"adam\", loss=\"mse\")\n",
    "    \n",
    "    return TCNModel"
   ]
  },
  {
   "cell_type": "markdown",
   "id": "d00c0ef4",
   "metadata": {},
   "source": [
    "# Training and Testing\n",
    "\n",
    "Proof of concept applying Copy Memory to T=20 "
   ]
  },
  {
   "cell_type": "code",
   "execution_count": 179,
   "id": "76d8a1af",
   "metadata": {},
   "outputs": [
    {
     "name": "stdout",
     "output_type": "stream",
     "text": [
      "(10000, 30)\n",
      "(10000, 30)\n"
     ]
    }
   ],
   "source": [
    "#Define Copy Memory Problem\n",
    "T = 10\n",
    "\n",
    "#Create Training Examples\n",
    "ENTRIES = 10000\n",
    "X, y = CreateCopyMemoryDataset(T, ENTRIES)\n",
    "print(X.shape)\n",
    "print(y.shape)\n",
    "\n",
    "#Build Model\n",
    "TCNModel = buildTCNModel(T)"
   ]
  },
  {
   "cell_type": "code",
   "execution_count": 180,
   "id": "06bba83f",
   "metadata": {},
   "outputs": [
    {
     "name": "stdout",
     "output_type": "stream",
     "text": [
      "Epoch 1/10\n",
      "16/16 [==============================] - 8s 198ms/step - loss: 3.0763 - val_loss: 1.0222\n",
      "Epoch 2/10\n",
      "16/16 [==============================] - 1s 73ms/step - loss: 1.1965 - val_loss: 0.2610\n",
      "Epoch 3/10\n",
      "16/16 [==============================] - 1s 73ms/step - loss: 0.7048 - val_loss: 0.0953\n",
      "Epoch 4/10\n",
      "16/16 [==============================] - 1s 69ms/step - loss: 0.5495 - val_loss: 0.0748\n",
      "Epoch 5/10\n",
      "16/16 [==============================] - 1s 71ms/step - loss: 0.4582 - val_loss: 0.0518\n",
      "Epoch 6/10\n",
      "16/16 [==============================] - 1s 72ms/step - loss: 0.3974 - val_loss: 0.0383\n",
      "Epoch 7/10\n",
      "16/16 [==============================] - 1s 75ms/step - loss: 0.3676 - val_loss: 0.0360\n",
      "Epoch 8/10\n",
      "16/16 [==============================] - 1s 71ms/step - loss: 0.3235 - val_loss: 0.0296\n",
      "Epoch 9/10\n",
      "16/16 [==============================] - 1s 73ms/step - loss: 0.3001 - val_loss: 0.0289\n",
      "Epoch 10/10\n",
      "16/16 [==============================] - 1s 71ms/step - loss: 0.2749 - val_loss: 0.0301\n"
     ]
    }
   ],
   "source": [
    "#Train Model\n",
    "history = TCNModel.fit(X, y, epochs = 10,\n",
    "                      batch_size = 128, steps_per_epoch = 16,\n",
    "                      validation_split=0.2)"
   ]
  },
  {
   "cell_type": "code",
   "execution_count": 118,
   "id": "9432c3c1",
   "metadata": {},
   "outputs": [
    {
     "name": "stdout",
     "output_type": "stream",
     "text": [
      "Input Sequnce:\n",
      "[[5. 1. 5. 3. 1. 7. 5. 1. 5. 4.]]\n",
      "Output Sequence\n",
      "[[4. 2. 4. 4. 2. 5. 5. 3. 5. 4.]]\n",
      "Unrounded-Output Sequnce:\n",
      "[[3.9  2.25 4.42 3.69 1.97 5.29 4.57 2.61 4.79 4.01]]\n"
     ]
    }
   ],
   "source": [
    "#Create an example and have the trained model predict the output\n",
    "X, y = CreateCopyMemoryDataset(T, 1)\n",
    "pred_y = TCNModel.predict(X)\n",
    "\n",
    "print(\"Input Sequnce:\")\n",
    "print(y[:,-10:])\n",
    "print(\"Output Sequence\")\n",
    "print(np.round(pred_y).reshape(1,-1)[:,-10:])\n",
    "print(\"Unrounded-Output Sequnce:\")\n",
    "print(np.round(pred_y,2).reshape(1,-1)[:,-10:])\n"
   ]
  },
  {
   "cell_type": "code",
   "execution_count": 177,
   "id": "68bf4d0e",
   "metadata": {},
   "outputs": [],
   "source": [
    "def TCNAccuracy(model, T):\n",
    "    \"\"\"\n",
    "    Inputs\n",
    "    model: A TCN Model\n",
    "    T   (INT): The number of spaces in the sequence\n",
    "    \n",
    "    Outputs:\n",
    "    acc (float, [0, 1]): The model's accuracy defined as incorrect digits over total digits for 1000 attempts\n",
    "    \"\"\"\n",
    "    \n",
    "    #Create Examples\n",
    "    X, y = CreateCopyMemoryDataset(T, 1000)\n",
    "    \n",
    "    #Predict on Examples\n",
    "    pred_y = model.predict(X)\n",
    "    \n",
    "    #Round predictions\n",
    "    pred_y = np.round(pred_y)\n",
    "    \n",
    "    #Count up all digits\n",
    "    m, n = X.shape\n",
    "    digits = m*n\n",
    "    \n",
    "    #Count up misses\n",
    "    misses = 0\n",
    "    for i in range(m):\n",
    "        for j in range(n):\n",
    "            if pred_y[i,j] != y[i,j]:\n",
    "                misses+=1\n",
    "            \n",
    "    \n",
    "    #Calculate Accuracy\n",
    "    acc = 1 - (misses / digits) \n",
    "    \n",
    "    return acc"
   ]
  },
  {
   "cell_type": "markdown",
   "id": "ce62ec42",
   "metadata": {},
   "source": [
    "# Receptive Field Analysis\n",
    "\n",
    "TCN Networks are great at providing a large receptive field to provide insight into future predections and effectively transfering information from far away inputs. Effectively, they have a long memory and can apply it effectively. "
   ]
  },
  {
   "cell_type": "code",
   "execution_count": 193,
   "id": "5462381f",
   "metadata": {},
   "outputs": [
    {
     "name": "stdout",
     "output_type": "stream",
     "text": [
      "5\n",
      "25\n",
      "50\n",
      "100\n",
      "500\n"
     ]
    }
   ],
   "source": [
    "def TCN_T_Test(TList):\n",
    "    \"\"\"\n",
    "    Inputs:\n",
    "    T: A list of integers defining at what intervals of T to test the TCN architecture\n",
    "    \n",
    "    Outputs:\n",
    "    accDF : A pandas dataframe tracking accuracy over training iterations\n",
    "    lossDF: A pandas dataframe tracking loss over training iterations\n",
    "    \"\"\"\n",
    "    \n",
    "    # Repeat example generation, training, and testing at each interval T\n",
    "    for i, T in enumerate(TList):\n",
    "        \n",
    "        #Create Training examples\n",
    "        \n",
    "        #Train Model\n",
    "        \n",
    "        #Calculate Accuracy\n",
    "       \n",
    "    \n",
    "    \n",
    "    \n",
    "\n",
    "T=[5,25,50,100,500]\n",
    "TCN_T_Test(T)\n"
   ]
  },
  {
   "cell_type": "code",
   "execution_count": null,
   "id": "0569a8c4",
   "metadata": {},
   "outputs": [],
   "source": []
  }
 ],
 "metadata": {
  "kernelspec": {
   "display_name": "Python 3 (ipykernel)",
   "language": "python",
   "name": "python3"
  },
  "language_info": {
   "codemirror_mode": {
    "name": "ipython",
    "version": 3
   },
   "file_extension": ".py",
   "mimetype": "text/x-python",
   "name": "python",
   "nbconvert_exporter": "python",
   "pygments_lexer": "ipython3",
   "version": "3.8.7"
  }
 },
 "nbformat": 4,
 "nbformat_minor": 5
}
